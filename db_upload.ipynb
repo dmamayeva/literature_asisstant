{
 "cells": [
  {
   "cell_type": "markdown",
   "metadata": {},
   "source": [
    "# Loading and saving the database of documents\n",
    "\n",
    "This notebook was used to generate the FAISS storage for all documents."
   ]
  },
  {
   "cell_type": "code",
   "execution_count": 27,
   "metadata": {},
   "outputs": [],
   "source": [
    "from langchain import HuggingFaceHub\n",
    "from langchain.embeddings import HuggingFaceEmbeddings\n",
    "from langchain.document_loaders.pdf import PyMuPDFLoader\n",
    "from langchain.text_splitter import RecursiveCharacterTextSplitter\n",
    "from langchain.vectorstores import FAISS\n",
    "from huggingface_hub import hf_hub_download\n",
    "import os\n",
    "from langchain.document_loaders import DirectoryLoader"
   ]
  },
  {
   "cell_type": "code",
   "execution_count": 28,
   "metadata": {},
   "outputs": [],
   "source": [
    "HUGGING_FACE_API_KEY = \"""
   ]
  },
  {
   "cell_type": "code",
   "execution_count": 29,
   "metadata": {},
   "outputs": [],
   "source": [
    "#Loading all documents. All folders from zip-files are in one folder.\n",
    "\n",
    "pdf_folder_path = '/Users/dariyamamayeva/Downloads/test_pdfs/'\n",
    "documents = []\n",
    "for dir in os.listdir(pdf_folder_path):\n",
    "    if dir == '.DS_Store':\n",
    "        continue\n",
    "    else:\n",
    "        for file in os.listdir(os.path.join(pdf_folder_path, dir)):\n",
    "            if file.endswith('.pdf'):\n",
    "                pdf_path = os.path.join(os.path.join(pdf_folder_path, dir), file)\n",
    "                loader = PyMuPDFLoader(pdf_path)\n",
    "                documents.extend(loader.load())"
   ]
  },
  {
   "cell_type": "code",
   "execution_count": 30,
   "metadata": {},
   "outputs": [],
   "source": [
    "text_split = RecursiveCharacterTextSplitter(chunk_size = 1000, chunk_overlap = 0)\n",
    "text = text_split.split_documents(documents)"
   ]
  },
  {
   "cell_type": "code",
   "execution_count": 31,
   "metadata": {},
   "outputs": [],
   "source": [
    "hf_embeddings = HuggingFaceEmbeddings(model_name='sentence-transformers/all-MiniLM-L6-v2')"
   ]
  },
  {
   "cell_type": "code",
   "execution_count": 32,
   "metadata": {},
   "outputs": [],
   "source": [
    "\"\"\"\n",
    "Loading into FAISS (Facebook AI Similarity Search)\n",
    "It is efficient for similarity search \n",
    "https://python.langchain.com/docs/integrations/vectorstores/faiss\n",
    "\"\"\"\n",
    "db = FAISS.from_documents(text, hf_embeddings)"
   ]
  },
  {
   "cell_type": "code",
   "execution_count": 33,
   "metadata": {},
   "outputs": [],
   "source": [
    "db.save_local(\"faiss_index\")"
   ]
  },
  {
   "cell_type": "code",
   "execution_count": null,
   "metadata": {},
   "outputs": [],
   "source": []
  }
 ],
 "metadata": {
  "kernelspec": {
   "display_name": "Python 3.9.12 ('jp_venv': venv)",
   "language": "python",
   "name": "python3"
  },
  "language_info": {
   "codemirror_mode": {
    "name": "ipython",
    "version": 3
   },
   "file_extension": ".py",
   "mimetype": "text/x-python",
   "name": "python",
   "nbconvert_exporter": "python",
   "pygments_lexer": "ipython3",
   "version": "3.9.12"
  },
  "orig_nbformat": 4,
  "vscode": {
   "interpreter": {
    "hash": "e76fcce22f87ddeda65d3eb984e08aa28574a45b2a491b1f66eb7e282de93845"
   }
  }
 },
 "nbformat": 4,
 "nbformat_minor": 2
}
